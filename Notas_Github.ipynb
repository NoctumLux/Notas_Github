{
 "cells": [
  {
   "cell_type": "markdown",
   "metadata": {},
   "source": [
    "[![Open In Colab](https://colab.research.google.com/assets/colab-badge.svg)](https://colab.research.google.com/github/NoctumLux/Notas_Github/blob/main/Notas_Github_md.ipynb)\n"
   ]
  },
  {
   "cell_type": "markdown",
   "metadata": {
    "id": "V77W9q21yKCn"
   },
   "source": [
    "# ¿ Qué es Git?\n",
    "\n",
    "Es un sistema de control de versiones, que permite el acceso al historial de los cambios en un proyecto, código, aplicación, etc. \n",
    "\n",
    "Git maneja repositorios locales así como remotos.\n",
    "\n",
    "---\n",
    "\n",
    "## Comandos Básicos \n",
    "\n",
    "En esta sección se mencionan algunos de los comandos de Git más utilizados (tener estos comandos a la mano no está de más):\n",
    "\n",
    "- git init ----> Crea un repositorio local con el historial de éste.\n",
    "- git clone \"dirección_ip\" ----> De manera alternativa clona un repositorio ya existente que se encuentre en Github. \n",
    "- git status ----> Se utiliza para saber si existen nuevos cambios en el repositorio. \n",
    "- git checkout \"nombredelarama\" ----> Cambia a la rama que se llama\n",
    "- git branch ----> Muestra todas las ramas en el repositorio local.\n",
    "- git branch \"nueva_rama\" ----> Crea una nueva rama.\n",
    "- git branch -a ----> Muestra todas las ramas (incluyendo las ramas en el repositorio remoto).\n",
    "- git add \"archivo\" ----> Se encargan de guardar los cambios que se han hecho en el repositorio.\n",
    "- git commit ----> Para guardar la nueva versión de los cambios. \n",
    "- git push ----> Para subir los cambios a un repositorio remoto. \n",
    "- git pull \"nombre_repositorio_remote\" ----> Extrae los nuevos cambios que se han hecho en el repositorio en el caso de trabajar con múltiples desarrolladores. \n",
    "- git log ----> Muestra el historial de los commits que se han creado. \n",
    "- git checkout -- \"archivo\" ----> Para revertir los cambios de algún archivo. \n",
    "- git diff \"archivo\" ----> Muestra los cambios entre un estado y otro. \n",
    "---\n",
    "\n",
    "## Instalación de Git \n",
    "\n",
    "Página oficial de [Git](https://git-scm.com/), en esta página se encuentra toda la información para aprender a usar Git. \n",
    "\n",
    "Vamos a la parte de Dowload for Windows (elegir la versión apropida para cada usuario). Se recomienda dejar la configuración predeterminada. \n",
    "\n",
    "Al finalizar la instalación, se abrirá una consola de comandos donde se podrán ejecutar comandos como si fuesé una terminal de linux o Mac. \n",
    "\n",
    "---\n",
    "\n",
    "### Parte I: Ejemplo básico \n",
    "\n",
    "Una vez instalado Git Bash. Podemos empezar a trabajar en nuevo proyecto con las ventajas que ofrece Git. \n",
    "\n",
    "Para esto creamos una carpeta desde nuestra computadora en donde se va a trabajar el proyecto, código, aplicación, etc. Por ejemplo en mi computadora creó la carpeta \"AI\" o con cualquier otro nombre, ahora dentro de dicha carpeta damos click derecho y optamos por la opción \"Git Bash Here\", abrirá la consola de comandos entonces inicializamos el proyecto para manejar la versión, mediante \"git init\" + \"Enter\" con estó estamos trabajando en el working directory. \n",
    "\n",
    "Ahora si agregamos cualquier tipo (por ejemplo \"hola_mundo.txt\") de archivo en la carpeta \"AI\" y ejecutamos el comando `git status` en la terminal nos mostrara que aún no se ha realizado ningún commit y además nos mostrará que que existen nuevos cambios, sí existen; es decir, el archivo que agregamos (\"hola_mundo.txt\"). Por lo tanto para agregar este nuevo archivo usamos `git add hola_mundo.txt` o en el caso de querer agragar todos los archivos se ejecuta `git add .`, para agregarlos al entorno de trabajo. Al ejecutar nuevamente `git status`, nos mostrará los archivos que se han agregado.\n",
    "\n",
    "Se usa `git commit` para un pirmer punto de control o checkpoint por así llamarlo. Al ejecutarlo la consola nos pedira configurar nuestro email y nombre de usuario, para esto seguimos las instrucciones de la consola. \n",
    " \n",
    "Ahora con la configuración completada, es posible hacer el primer \"commit\" para esto ejecutamos `git commit -m \"Agrego el primer archivo\"`. Con la opción -m y entre comillas se puede agregar un pequeño mensaje de los cambios que se han hecho en este caso se agrego el archivo \"hola_mundo.txt\" y se ha creado el primer checkpoint.  \n",
    "\n",
    "Hasta este punto se ha trabajado con los comandos más básicos e importantes de Git: `git add`, `git status` y `git commit`. \n",
    "\n",
    "---\n",
    "\n",
    "### Parte II: Servidores Remotes y locales\n",
    "\n",
    "En la carpeta donde se inicializó Git, sí ahora realizamos cualquier cambio en el archivo hola_mundo.txt, al ejecutar `git status` la consola mostrará que hubo cambios en dicho archivo, por lo que tenemos diferentes opciones: \n",
    "\n",
    "1. Se puede revertir los cambios con la instrucción `git checkout --hola_mundo.txt`\n",
    "\n",
    "2. Se puede visualizar que cambios se han hecho con la instrucción `git diff hola_mundo.txt`\n",
    "\n",
    "3. Sí se desea guardar los cambios ejecutamos nuevamente `git add hola_mundo.txt` seguido de `git commit -m \"Nuevos cambios en el archivo\"` (entre comillas expresamos el mensaje de los cambios realizados).\n",
    "\n",
    "De esta manera ahora ya tenemos un nuevo checkpoint en el archivo \"hola_mundo.txt\", al cual podemos recurrir. \n",
    "\n",
    "Por otra parte si agregamos un archivo que nos sirve como borrador (por ejemplo borrador.txt) pero que no se desea agregar al entorno de trabajo, podemos crear el archivo .gitignore y dentro de este archivo basta con agregar borrador.txt, ahora al ejecutar `git status` muestra que se ha agregado el archivo \".gitignore\", basta con ejecutar `git add .gitignore`, `git commit -m \"Agrego el archivo .gitignore\"` (al hacer el commit se guardan los cambios en el entorno de trabajo: otro checkpoint). \n",
    "\n",
    "---\n",
    "\n",
    "### Parte III: Ramas\n",
    "\n",
    "Se tiene solo una versión del proyecto (la rama master/main), en este caso la carpeta \"AI\", por lo que si se quiere trabajar de manera alternativa con los archivos ya existentes, se crea una nueva rama con el comando `git branch rama`, se crea una rama nueva con el nombre \"rama\" (una versión alternativa)\n"
   ]
  },
  {
   "cell_type": "markdown",
   "metadata": {
    "id": "V59HCp-IaGZb"
   },
   "source": []
  },
  {
   "cell_type": "code",
   "execution_count": null,
   "metadata": {
    "id": "eAKu4z0VSNeZ"
   },
   "outputs": [],
   "source": []
  }
 ],
 "metadata": {
  "colab": {
   "collapsed_sections": [],
   "name": "Notas_Github.md",
   "provenance": []
  },
  "kernelspec": {
   "display_name": "Python 3",
   "language": "python",
   "name": "python3"
  },
  "language_info": {
   "codemirror_mode": {
    "name": "ipython",
    "version": 3
   },
   "file_extension": ".py",
   "mimetype": "text/x-python",
   "name": "python",
   "nbconvert_exporter": "python",
   "pygments_lexer": "ipython3",
   "version": "3.8.5"
  }
 },
 "nbformat": 4,
 "nbformat_minor": 1
}
