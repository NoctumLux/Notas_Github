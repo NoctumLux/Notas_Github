{
 "cells": [
  {
   "cell_type": "markdown",
   "metadata": {},
   "source": [
    "# Ejercicio Fizz Buzz"
   ]
  },
  {
   "cell_type": "markdown",
   "metadata": {},
   "source": [
    "Fizz buzz es un juego de palabras grupal para enseñar a los niños la división [[1]](https://en.wikipedia.org/wiki/Fizz_buzz). Los jugadores se turnan para contar de forma incremental, reemplazando cualquier número divisible por tres con la palabra \"Fizz\" y cualquier número divisible por cinco con la palabra \"Buzz\"."
   ]
  },
  {
   "cell_type": "markdown",
   "metadata": {},
   "source": [
    "Un ejemplo del juego sería el siguiente:\n",
    "\n",
    "1, 2, Fizz, 4, Buzz, Fizz, 7, 8, Fizz, Buzz, 11, Fizz, 13, 14, Fizz Buzz, 16, 17, Fizz, 19, Buzz, Fizz, 22, 23, Fizz, Buzz, 26, Fizz, 28, 29, Fizz Buzz, 31, 32, Fizz, 34, Buzz, Fizz, ..."
   ]
  },
  {
   "cell_type": "code",
   "execution_count": 1,
   "metadata": {},
   "outputs": [],
   "source": [
    "def fizzbuzz(n, m):\n",
    "    #print(\"Ingresa dos numeros iniciales para comenzar la secuencia\")\n",
    "    #n = input()\n",
    "    #m = input()\n",
    "    if n<m:\n",
    "        print(\"La secuencia es de\", n, \"hasta\", m, \":\\n\")\n",
    "        datos = range(n,m+1)\n",
    "        for i in datos:\n",
    "            if i%15 == 0:\n",
    "                print(\"FizzBuzz\", end=' ')\n",
    "            elif i%3 == 0:\n",
    "                print(\"Fizz\", end=' ')\n",
    "            elif i%5 == 0:\n",
    "                print(\"Buzz\", end=' ')\n",
    "            else:\n",
    "                print(i, end=' ')\n",
    "            if (i-n+1)% 20 == 0:\n",
    "                print(\"\\n\")\n",
    "    else:\n",
    "        print(\"El valor de m debe ser mayor al de n\")\n",
    "\n",
    "    return"
   ]
  },
  {
   "cell_type": "code",
   "execution_count": 12,
   "metadata": {},
   "outputs": [
    {
     "name": "stdout",
     "output_type": "stream",
     "text": [
      "La secuencia es de 13 hasta 19 :\n",
      "\n",
      "13 14 FizzBuzz 16 17 Fizz 19 "
     ]
    }
   ],
   "source": [
    "fizzbuzz(13, 19)"
   ]
  },
  {
   "cell_type": "code",
   "execution_count": 13,
   "metadata": {},
   "outputs": [
    {
     "name": "stdout",
     "output_type": "stream",
     "text": [
      "La secuencia es de 15 hasta 35 :\n",
      "\n",
      "FizzBuzz 16 17 Fizz 19 Buzz Fizz 22 23 Fizz Buzz 26 Fizz 28 29 FizzBuzz 31 32 Fizz 34 \n",
      "\n",
      "Buzz "
     ]
    }
   ],
   "source": [
    "fizzbuzz(15,35)"
   ]
  }
 ],
 "metadata": {
  "kernelspec": {
   "display_name": "Python 3",
   "language": "python",
   "name": "python3"
  },
  "language_info": {
   "codemirror_mode": {
    "name": "ipython",
    "version": 3
   },
   "file_extension": ".py",
   "mimetype": "text/x-python",
   "name": "python",
   "nbconvert_exporter": "python",
   "pygments_lexer": "ipython3",
   "version": "3.8.5"
  }
 },
 "nbformat": 4,
 "nbformat_minor": 4
}
